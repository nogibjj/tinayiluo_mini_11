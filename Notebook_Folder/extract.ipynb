{
 "cells": [
  {
   "cell_type": "code",
   "execution_count": 0,
   "metadata": {
    "application/vnd.databricks.v1+cell": {
     "cellMetadata": {
      "byteLimit": 2048000,
      "rowLimit": 10000
     },
     "inputWidgets": {},
     "nuid": "7bb528e7-15c9-4f3c-bf63-a6ebe62777b9",
     "showTitle": false,
     "title": ""
    }
   },
   "outputs": [],
   "source": [
    "!pip install -r ../requirements.txt"
   ]
  },
  {
   "cell_type": "code",
   "execution_count": 0,
   "metadata": {
    "application/vnd.databricks.v1+cell": {
     "cellMetadata": {
      "byteLimit": 2048000,
      "rowLimit": 10000
     },
     "inputWidgets": {},
     "nuid": "35bb5e9b-aa3e-4295-8e52-6049aa55f9f5",
     "showTitle": false,
     "title": ""
    }
   },
   "outputs": [],
   "source": [
    "import requests\n",
    "from dotenv import load_dotenv\n",
    "import os\n",
    "import json\n",
    "import base64\n",
    "\n",
    "# Load environment variables\n",
    "load_dotenv()\n",
    "server_h = os.getenv(\"SERVER_HOSTNAME\")\n",
    "access_token = os.getenv(\"ACCESS_TOKEN\")\n",
    "FILESTORE_PATH = \"dbfs:/FileStore/tinayiluo_Databricks_ETL_Pipeline\"\n",
    "headers = {'Authorization': 'Bearer %s' % access_token}\n",
    "url = \"https://\"+server_h+\"/api/2.0\"\n",
    "\n",
    "\n",
    "def perform_query(path, headers, data={}):\n",
    "    session = requests.Session()\n",
    "    resp = session.request('POST', url + path, \n",
    "                           data=json.dumps(data), \n",
    "                           verify=True, \n",
    "                           headers=headers)\n",
    "    return resp.json()\n",
    "\n",
    "\n",
    "def mkdirs(path, headers):\n",
    "    _data = {}\n",
    "    _data['path'] = path\n",
    "    return perform_query('/dbfs/mkdirs', headers=headers, data=_data)\n",
    "  \n",
    "\n",
    "def create(path, overwrite, headers):\n",
    "    _data = {}\n",
    "    _data['path'] = path\n",
    "    _data['overwrite'] = overwrite\n",
    "    return perform_query('/dbfs/create', headers=headers, data=_data)\n",
    "\n",
    "\n",
    "def add_block(handle, data, headers):\n",
    "    _data = {}\n",
    "    _data['handle'] = handle\n",
    "    _data['data'] = data\n",
    "    return perform_query('/dbfs/add-block', headers=headers, data=_data)\n",
    "\n",
    "\n",
    "def close(handle, headers):\n",
    "    _data = {}\n",
    "    _data['handle'] = handle\n",
    "    return perform_query('/dbfs/close', headers=headers, data=_data)\n",
    "\n",
    "\n",
    "def put_file_from_url(url, dbfs_path, overwrite, headers):\n",
    "    response = requests.get(url)\n",
    "    if response.status_code == 200:\n",
    "        content = response.content\n",
    "        handle = create(dbfs_path, overwrite, headers=headers)['handle']\n",
    "        print(\"Putting file: \" + dbfs_path)\n",
    "        for i in range(0, len(content), 2**20):\n",
    "            add_block(handle, \n",
    "                      base64.standard_b64encode(content[i:i+2**20]).decode(), \n",
    "                      headers=headers)\n",
    "        close(handle, headers=headers)\n",
    "        print(f\"File {dbfs_path} uploaded successfully.\")\n",
    "    else:\n",
    "        print(f\"Error downloading file from {url}. Status code: {response.status_code}\")\n",
    "\n",
    "\n",
    "def extract(\n",
    "        url=\"\"\"https://github.com/fivethirtyeight/data/blob/master/airline-safety/airline-safety.csv?raw=true\"\"\",\n",
    "        file_path=FILESTORE_PATH+\"/airline-safety.csv\",\n",
    "        directory=FILESTORE_PATH,\n",
    "        overwrite=True\n",
    "):\n",
    "    \"\"\"Extract a url to a file path\"\"\"\n",
    "    # Make the directory, no need to check if it exists or not\n",
    "    mkdirs(path=directory, headers=headers)\n",
    "    # Add the csv files, no need to check if it exists or not\n",
    "    put_file_from_url(url, file_path, overwrite, headers=headers)\n",
    "\n",
    "    return file_path\n",
    "\n",
    "\n",
    "extract()"
   ]
  }
 ],
 "metadata": {
  "application/vnd.databricks.v1+notebook": {
   "dashboards": [],
   "language": "python",
   "notebookMetadata": {
    "pythonIndentUnit": 4
   },
   "notebookName": "extract",
   "widgets": {}
  }
 },
 "nbformat": 4,
 "nbformat_minor": 0
}
